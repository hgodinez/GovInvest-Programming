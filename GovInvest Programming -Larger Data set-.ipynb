{
 "cells": [
  {
   "cell_type": "markdown",
   "metadata": {},
   "source": [
    "### GovInvest Programming Assignment"
   ]
  },
  {
   "cell_type": "markdown",
   "metadata": {},
   "source": [
    "#### Directions\n",
    "\n",
    "The task is to develop an algorithm, implemented in Python, that will create a data file for Test City as of June 30, 2016, assuming that:\n",
    " \n",
    "* Demographic experience matches CalPERS assumptions\n",
    "* The number of active members in Test City stays constant from year to year.\n",
    "\n",
    "New members have the demographic characteristics of the most recent active hire in the existing data file\n",
    "\n",
    "The data files provided are:\n",
    "* “Data_file”, representing a snapshot of a pension plan demographic for Test City as of June 30, 2015. Current and former Test City employees are members of CalPERS.\n",
    "* “Rate_reference”, representing various actuarial rates that are used by the CalPERS pension system in California.\n",
    "\n"
   ]
  },
  {
   "cell_type": "code",
   "execution_count": 1,
   "metadata": {
    "collapsed": false
   },
   "outputs": [],
   "source": [
    "#We import the libraries we are going to use\n",
    "%matplotlib inline\n",
    "\n",
    "import pandas as pd\n",
    "import numpy as np\n",
    "import datetime\n",
    "import matplotlib.pyplot as plt\n",
    "plt.style.use('ggplot')\n",
    "pd.options.mode.chained_assignment = None"
   ]
  },
  {
   "cell_type": "code",
   "execution_count": 2,
   "metadata": {
    "collapsed": false
   },
   "outputs": [],
   "source": [
    "# we import the data into a pandas Data Frame\n",
    "df=pd.read_csv('data_file_modified.csv', sep=',', na_values=['n/a'], keep_default_na=False)"
   ]
  },
  {
   "cell_type": "code",
   "execution_count": 3,
   "metadata": {
    "collapsed": true
   },
   "outputs": [],
   "source": [
    "# we import the Reference Rates ('rate_references.csv')  and Mortality and Disability Rate ('MortalityDisability.csv') \n",
    "# into a pandas Data Frame\n",
    "# The File \"Readme Variables\" includes the variable description for both files. \n",
    "refrates=pd.read_csv('rate_references.csv', sep=',', na_values=['n/a'], keep_default_na=False)\n",
    "mortdisab=pd.read_csv('MortalityDisability.csv', sep=',', na_values=['n/a'], keep_default_na=False)"
   ]
  },
  {
   "cell_type": "code",
   "execution_count": 6,
   "metadata": {
    "collapsed": false
   },
   "outputs": [],
   "source": [
    "# We need to convert the dates as python`s datetime\n",
    "df['birth_date'] = pd.to_datetime(df['birth_date'])\n",
    "df['hire_date'] = pd.to_datetime(df['hire_date'])"
   ]
  },
  {
   "cell_type": "markdown",
   "metadata": {},
   "source": [
    "##### In the following lines we inspect the files"
   ]
  },
  {
   "cell_type": "code",
   "execution_count": 7,
   "metadata": {
    "collapsed": false
   },
   "outputs": [
    {
     "data": {
      "text/html": [
       "<div>\n",
       "<table border=\"1\" class=\"dataframe\">\n",
       "  <thead>\n",
       "    <tr style=\"text-align: right;\">\n",
       "      <th></th>\n",
       "      <th>id</th>\n",
       "      <th>gender</th>\n",
       "      <th>status</th>\n",
       "      <th>group</th>\n",
       "      <th>birth_date</th>\n",
       "      <th>hire_date</th>\n",
       "      <th>service_in_city</th>\n",
       "      <th>benefit_formula_benefit_factor</th>\n",
       "      <th>benefit_formula_retirement_age</th>\n",
       "      <th>life_annuity_yearly_amount</th>\n",
       "    </tr>\n",
       "  </thead>\n",
       "  <tbody>\n",
       "    <tr>\n",
       "      <th>0</th>\n",
       "      <td>1</td>\n",
       "      <td>f</td>\n",
       "      <td>active</td>\n",
       "      <td>miscellaneous</td>\n",
       "      <td>1950-01-09</td>\n",
       "      <td>2004-07-12</td>\n",
       "      <td>11.18</td>\n",
       "      <td>2.00%</td>\n",
       "      <td>55.0</td>\n",
       "      <td>0</td>\n",
       "    </tr>\n",
       "    <tr>\n",
       "      <th>1</th>\n",
       "      <td>2</td>\n",
       "      <td>m</td>\n",
       "      <td>active</td>\n",
       "      <td>miscellaneous</td>\n",
       "      <td>1978-01-22</td>\n",
       "      <td>2007-02-07</td>\n",
       "      <td>8.61</td>\n",
       "      <td>2.50%</td>\n",
       "      <td>55.0</td>\n",
       "      <td>0</td>\n",
       "    </tr>\n",
       "    <tr>\n",
       "      <th>2</th>\n",
       "      <td>3</td>\n",
       "      <td>f</td>\n",
       "      <td>active</td>\n",
       "      <td>miscellaneous</td>\n",
       "      <td>1950-08-24</td>\n",
       "      <td>2000-10-10</td>\n",
       "      <td>15.34</td>\n",
       "      <td>2.50%</td>\n",
       "      <td>55.0</td>\n",
       "      <td>0</td>\n",
       "    </tr>\n",
       "    <tr>\n",
       "      <th>3</th>\n",
       "      <td>4</td>\n",
       "      <td>m</td>\n",
       "      <td>active</td>\n",
       "      <td>miscellaneous</td>\n",
       "      <td>1972-01-14</td>\n",
       "      <td>1990-10-09</td>\n",
       "      <td>23.86</td>\n",
       "      <td>2.70%</td>\n",
       "      <td>55.0</td>\n",
       "      <td>0</td>\n",
       "    </tr>\n",
       "    <tr>\n",
       "      <th>4</th>\n",
       "      <td>5</td>\n",
       "      <td>f</td>\n",
       "      <td>active</td>\n",
       "      <td>miscellaneous</td>\n",
       "      <td>1980-04-24</td>\n",
       "      <td>1997-11-17</td>\n",
       "      <td>14.61</td>\n",
       "      <td>3.00%</td>\n",
       "      <td>60.0</td>\n",
       "      <td>0</td>\n",
       "    </tr>\n",
       "  </tbody>\n",
       "</table>\n",
       "</div>"
      ],
      "text/plain": [
       "   id gender  status          group birth_date  hire_date  service_in_city  \\\n",
       "0   1      f  active  miscellaneous 1950-01-09 2004-07-12            11.18   \n",
       "1   2      m  active  miscellaneous 1978-01-22 2007-02-07             8.61   \n",
       "2   3      f  active  miscellaneous 1950-08-24 2000-10-10            15.34   \n",
       "3   4      m  active  miscellaneous 1972-01-14 1990-10-09            23.86   \n",
       "4   5      f  active  miscellaneous 1980-04-24 1997-11-17            14.61   \n",
       "\n",
       "  benefit_formula_benefit_factor  benefit_formula_retirement_age  \\\n",
       "0                          2.00%                            55.0   \n",
       "1                          2.50%                            55.0   \n",
       "2                          2.50%                            55.0   \n",
       "3                          2.70%                            55.0   \n",
       "4                          3.00%                            60.0   \n",
       "\n",
       "  life_annuity_yearly_amount  \n",
       "0                          0  \n",
       "1                          0  \n",
       "2                          0  \n",
       "3                          0  \n",
       "4                          0  "
      ]
     },
     "execution_count": 7,
     "metadata": {},
     "output_type": "execute_result"
    }
   ],
   "source": [
    "df.head()"
   ]
  },
  {
   "cell_type": "code",
   "execution_count": 8,
   "metadata": {
    "collapsed": false
   },
   "outputs": [
    {
     "data": {
      "text/html": [
       "<div>\n",
       "<table border=\"1\" class=\"dataframe\">\n",
       "  <thead>\n",
       "    <tr style=\"text-align: right;\">\n",
       "      <th></th>\n",
       "      <th>Service</th>\n",
       "      <th>TR_15</th>\n",
       "      <th>TR_16</th>\n",
       "      <th>TR_17</th>\n",
       "      <th>TR_18</th>\n",
       "      <th>TR_19</th>\n",
       "      <th>TR_20</th>\n",
       "      <th>TR_21</th>\n",
       "      <th>TR_22</th>\n",
       "      <th>TR_23</th>\n",
       "      <th>...</th>\n",
       "      <th>RXM3_60__70</th>\n",
       "      <th>RXM3_60__71</th>\n",
       "      <th>RXM3_60__72</th>\n",
       "      <th>RXM3_60__73</th>\n",
       "      <th>RXM3_60__74</th>\n",
       "      <th>RXM3_60__75</th>\n",
       "      <th>RXM3_60__76</th>\n",
       "      <th>RXM3_60__77</th>\n",
       "      <th>RXM3_60__78</th>\n",
       "      <th>RXM3_60__79</th>\n",
       "    </tr>\n",
       "  </thead>\n",
       "  <tbody>\n",
       "    <tr>\n",
       "      <th>0</th>\n",
       "      <td>0</td>\n",
       "      <td>0.1812</td>\n",
       "      <td>0.1798</td>\n",
       "      <td>0.1784</td>\n",
       "      <td>0.1770</td>\n",
       "      <td>0.1756</td>\n",
       "      <td>0.1742</td>\n",
       "      <td>0.1730</td>\n",
       "      <td>0.1716</td>\n",
       "      <td>0.1702</td>\n",
       "      <td>...</td>\n",
       "      <td>0.0</td>\n",
       "      <td>0.0</td>\n",
       "      <td>0.0</td>\n",
       "      <td>0.0</td>\n",
       "      <td>0.0</td>\n",
       "      <td>0.0</td>\n",
       "      <td>0.0</td>\n",
       "      <td>0.0</td>\n",
       "      <td>0.0</td>\n",
       "      <td>0.0</td>\n",
       "    </tr>\n",
       "    <tr>\n",
       "      <th>1</th>\n",
       "      <td>1</td>\n",
       "      <td>0.1615</td>\n",
       "      <td>0.1601</td>\n",
       "      <td>0.1587</td>\n",
       "      <td>0.1573</td>\n",
       "      <td>0.1559</td>\n",
       "      <td>0.1545</td>\n",
       "      <td>0.1532</td>\n",
       "      <td>0.1519</td>\n",
       "      <td>0.1505</td>\n",
       "      <td>...</td>\n",
       "      <td>0.0</td>\n",
       "      <td>0.0</td>\n",
       "      <td>0.0</td>\n",
       "      <td>0.0</td>\n",
       "      <td>0.0</td>\n",
       "      <td>0.0</td>\n",
       "      <td>0.0</td>\n",
       "      <td>0.0</td>\n",
       "      <td>0.0</td>\n",
       "      <td>0.0</td>\n",
       "    </tr>\n",
       "    <tr>\n",
       "      <th>2</th>\n",
       "      <td>2</td>\n",
       "      <td>0.1418</td>\n",
       "      <td>0.1404</td>\n",
       "      <td>0.1390</td>\n",
       "      <td>0.1376</td>\n",
       "      <td>0.1362</td>\n",
       "      <td>0.1348</td>\n",
       "      <td>0.1335</td>\n",
       "      <td>0.1322</td>\n",
       "      <td>0.1308</td>\n",
       "      <td>...</td>\n",
       "      <td>0.0</td>\n",
       "      <td>0.0</td>\n",
       "      <td>0.0</td>\n",
       "      <td>0.0</td>\n",
       "      <td>0.0</td>\n",
       "      <td>0.0</td>\n",
       "      <td>0.0</td>\n",
       "      <td>0.0</td>\n",
       "      <td>0.0</td>\n",
       "      <td>0.0</td>\n",
       "    </tr>\n",
       "    <tr>\n",
       "      <th>3</th>\n",
       "      <td>3</td>\n",
       "      <td>0.1221</td>\n",
       "      <td>0.1207</td>\n",
       "      <td>0.1193</td>\n",
       "      <td>0.1179</td>\n",
       "      <td>0.1165</td>\n",
       "      <td>0.1151</td>\n",
       "      <td>0.1138</td>\n",
       "      <td>0.1125</td>\n",
       "      <td>0.1111</td>\n",
       "      <td>...</td>\n",
       "      <td>0.0</td>\n",
       "      <td>0.0</td>\n",
       "      <td>0.0</td>\n",
       "      <td>0.0</td>\n",
       "      <td>0.0</td>\n",
       "      <td>0.0</td>\n",
       "      <td>0.0</td>\n",
       "      <td>0.0</td>\n",
       "      <td>0.0</td>\n",
       "      <td>0.0</td>\n",
       "    </tr>\n",
       "    <tr>\n",
       "      <th>4</th>\n",
       "      <td>4</td>\n",
       "      <td>0.1024</td>\n",
       "      <td>0.1010</td>\n",
       "      <td>0.0996</td>\n",
       "      <td>0.0982</td>\n",
       "      <td>0.0968</td>\n",
       "      <td>0.0954</td>\n",
       "      <td>0.0940</td>\n",
       "      <td>0.0928</td>\n",
       "      <td>0.0914</td>\n",
       "      <td>...</td>\n",
       "      <td>0.0</td>\n",
       "      <td>0.0</td>\n",
       "      <td>0.0</td>\n",
       "      <td>0.0</td>\n",
       "      <td>0.0</td>\n",
       "      <td>0.0</td>\n",
       "      <td>0.0</td>\n",
       "      <td>0.0</td>\n",
       "      <td>0.0</td>\n",
       "      <td>0.0</td>\n",
       "    </tr>\n",
       "  </tbody>\n",
       "</table>\n",
       "<p>5 rows × 366 columns</p>\n",
       "</div>"
      ],
      "text/plain": [
       "   Service   TR_15   TR_16   TR_17   TR_18   TR_19   TR_20   TR_21   TR_22  \\\n",
       "0        0  0.1812  0.1798  0.1784  0.1770  0.1756  0.1742  0.1730  0.1716   \n",
       "1        1  0.1615  0.1601  0.1587  0.1573  0.1559  0.1545  0.1532  0.1519   \n",
       "2        2  0.1418  0.1404  0.1390  0.1376  0.1362  0.1348  0.1335  0.1322   \n",
       "3        3  0.1221  0.1207  0.1193  0.1179  0.1165  0.1151  0.1138  0.1125   \n",
       "4        4  0.1024  0.1010  0.0996  0.0982  0.0968  0.0954  0.0940  0.0928   \n",
       "\n",
       "    TR_23     ...       RXM3_60__70  RXM3_60__71  RXM3_60__72  RXM3_60__73  \\\n",
       "0  0.1702     ...               0.0          0.0          0.0          0.0   \n",
       "1  0.1505     ...               0.0          0.0          0.0          0.0   \n",
       "2  0.1308     ...               0.0          0.0          0.0          0.0   \n",
       "3  0.1111     ...               0.0          0.0          0.0          0.0   \n",
       "4  0.0914     ...               0.0          0.0          0.0          0.0   \n",
       "\n",
       "   RXM3_60__74  RXM3_60__75  RXM3_60__76  RXM3_60__77  RXM3_60__78  \\\n",
       "0          0.0          0.0          0.0          0.0          0.0   \n",
       "1          0.0          0.0          0.0          0.0          0.0   \n",
       "2          0.0          0.0          0.0          0.0          0.0   \n",
       "3          0.0          0.0          0.0          0.0          0.0   \n",
       "4          0.0          0.0          0.0          0.0          0.0   \n",
       "\n",
       "   RXM3_60__79  \n",
       "0          0.0  \n",
       "1          0.0  \n",
       "2          0.0  \n",
       "3          0.0  \n",
       "4          0.0  \n",
       "\n",
       "[5 rows x 366 columns]"
      ]
     },
     "execution_count": 8,
     "metadata": {},
     "output_type": "execute_result"
    }
   ],
   "source": [
    "refrates.head()"
   ]
  },
  {
   "cell_type": "code",
   "execution_count": 9,
   "metadata": {
    "collapsed": false
   },
   "outputs": [
    {
     "data": {
      "text/html": [
       "<div>\n",
       "<table border=\"1\" class=\"dataframe\">\n",
       "  <thead>\n",
       "    <tr style=\"text-align: right;\">\n",
       "      <th></th>\n",
       "      <th>AA</th>\n",
       "      <th>PRNIDM</th>\n",
       "      <th>PRIDM</th>\n",
       "      <th>PRNIDF</th>\n",
       "      <th>PRIDF</th>\n",
       "      <th>PoRHM</th>\n",
       "      <th>PoRNIDiM</th>\n",
       "      <th>PoRIDiM</th>\n",
       "      <th>PoRHF</th>\n",
       "      <th>PoRNIDiF</th>\n",
       "      <th>PoRIDiF</th>\n",
       "      <th>DNIDM</th>\n",
       "      <th>DIDM</th>\n",
       "      <th>DNIDF</th>\n",
       "      <th>DIDF</th>\n",
       "    </tr>\n",
       "  </thead>\n",
       "  <tbody>\n",
       "    <tr>\n",
       "      <th>115</th>\n",
       "      <td>116</td>\n",
       "      <td>0.0</td>\n",
       "      <td>0</td>\n",
       "      <td>0.0</td>\n",
       "      <td>0</td>\n",
       "      <td>1.0</td>\n",
       "      <td>1.0</td>\n",
       "      <td>1.0</td>\n",
       "      <td>1.0</td>\n",
       "      <td>1.0</td>\n",
       "      <td>1.0</td>\n",
       "      <td>0.0</td>\n",
       "      <td>0</td>\n",
       "      <td>0.0</td>\n",
       "      <td>0</td>\n",
       "    </tr>\n",
       "    <tr>\n",
       "      <th>116</th>\n",
       "      <td>117</td>\n",
       "      <td>0.0</td>\n",
       "      <td>0</td>\n",
       "      <td>0.0</td>\n",
       "      <td>0</td>\n",
       "      <td>1.0</td>\n",
       "      <td>1.0</td>\n",
       "      <td>1.0</td>\n",
       "      <td>1.0</td>\n",
       "      <td>1.0</td>\n",
       "      <td>1.0</td>\n",
       "      <td>0.0</td>\n",
       "      <td>0</td>\n",
       "      <td>0.0</td>\n",
       "      <td>0</td>\n",
       "    </tr>\n",
       "    <tr>\n",
       "      <th>117</th>\n",
       "      <td>118</td>\n",
       "      <td>0.0</td>\n",
       "      <td>0</td>\n",
       "      <td>0.0</td>\n",
       "      <td>0</td>\n",
       "      <td>1.0</td>\n",
       "      <td>1.0</td>\n",
       "      <td>1.0</td>\n",
       "      <td>1.0</td>\n",
       "      <td>1.0</td>\n",
       "      <td>1.0</td>\n",
       "      <td>0.0</td>\n",
       "      <td>0</td>\n",
       "      <td>0.0</td>\n",
       "      <td>0</td>\n",
       "    </tr>\n",
       "    <tr>\n",
       "      <th>118</th>\n",
       "      <td>119</td>\n",
       "      <td>0.0</td>\n",
       "      <td>0</td>\n",
       "      <td>0.0</td>\n",
       "      <td>0</td>\n",
       "      <td>1.0</td>\n",
       "      <td>1.0</td>\n",
       "      <td>1.0</td>\n",
       "      <td>1.0</td>\n",
       "      <td>1.0</td>\n",
       "      <td>1.0</td>\n",
       "      <td>0.0</td>\n",
       "      <td>0</td>\n",
       "      <td>0.0</td>\n",
       "      <td>0</td>\n",
       "    </tr>\n",
       "    <tr>\n",
       "      <th>119</th>\n",
       "      <td>120</td>\n",
       "      <td>0.0</td>\n",
       "      <td>0</td>\n",
       "      <td>0.0</td>\n",
       "      <td>0</td>\n",
       "      <td>1.0</td>\n",
       "      <td>1.0</td>\n",
       "      <td>1.0</td>\n",
       "      <td>1.0</td>\n",
       "      <td>1.0</td>\n",
       "      <td>1.0</td>\n",
       "      <td>0.0</td>\n",
       "      <td>0</td>\n",
       "      <td>0.0</td>\n",
       "      <td>0</td>\n",
       "    </tr>\n",
       "  </tbody>\n",
       "</table>\n",
       "</div>"
      ],
      "text/plain": [
       "      AA  PRNIDM  PRIDM  PRNIDF  PRIDF  PoRHM  PoRNIDiM  PoRIDiM  PoRHF  \\\n",
       "115  116     0.0      0     0.0      0    1.0       1.0      1.0    1.0   \n",
       "116  117     0.0      0     0.0      0    1.0       1.0      1.0    1.0   \n",
       "117  118     0.0      0     0.0      0    1.0       1.0      1.0    1.0   \n",
       "118  119     0.0      0     0.0      0    1.0       1.0      1.0    1.0   \n",
       "119  120     0.0      0     0.0      0    1.0       1.0      1.0    1.0   \n",
       "\n",
       "     PoRNIDiF  PoRIDiF  DNIDM  DIDM  DNIDF  DIDF  \n",
       "115       1.0      1.0    0.0     0    0.0     0  \n",
       "116       1.0      1.0    0.0     0    0.0     0  \n",
       "117       1.0      1.0    0.0     0    0.0     0  \n",
       "118       1.0      1.0    0.0     0    0.0     0  \n",
       "119       1.0      1.0    0.0     0    0.0     0  "
      ]
     },
     "execution_count": 9,
     "metadata": {},
     "output_type": "execute_result"
    }
   ],
   "source": [
    "mortdisab.tail()"
   ]
  },
  {
   "cell_type": "code",
   "execution_count": 11,
   "metadata": {
    "collapsed": false
   },
   "outputs": [],
   "source": [
    "# This function calculate the age based on a date. \n",
    "# The correct way to do this is to calculate the age \n",
    "# by subtracting the two years (ex. Date as of June 30, 2015 - birth_date ), and then \n",
    "# subtracting one if the current month/day precedes the birth month/day.\n",
    "def age(dob, datadf = datetime.date(2015, 6, 30)): #Default date of the snapshot (June 30, 2015)\n",
    "    import datetime\n",
    "    if datadf.month < dob.month | \\\n",
    "      (datadf.month == dob.month & datadf.day < dob.day):\n",
    "        #We subtract one because the current month/day precedes the birth month/day\n",
    "        return int(datadf.year - dob.year - 1)    \n",
    "    else:\n",
    "        return int(datadf.year - dob.year)"
   ]
  },
  {
   "cell_type": "code",
   "execution_count": 13,
   "metadata": {
    "collapsed": false
   },
   "outputs": [],
   "source": [
    "# We add the age columns in the Data Frame\n",
    "df['age_df_date'] = df.birth_date.apply(age).astype(int) #The age as of June 30, 2015 \n",
    "df['age_df_date_proj'] = df['age_df_date']+1 #The age as of June 30, 2016\n",
    "\n",
    "\n",
    "#Another way to calculate the entry age into the plan based in two columns considering int(True) is 1 and int(False) is 0\n",
    "df['age_at_hire']=df.apply(lambda x: x['hire_date'].year - x['birth_date'].year - \n",
    "                           ((x['hire_date'].month, x['hire_date'].day) < (x['birth_date'].month, x['birth_date'].day)), axis=1)\n",
    "\n"
   ]
  },
  {
   "cell_type": "markdown",
   "metadata": {},
   "source": [
    "#### I perform some basic exploratory analysis of the data"
   ]
  },
  {
   "cell_type": "code",
   "execution_count": 14,
   "metadata": {
    "collapsed": false
   },
   "outputs": [
    {
     "data": {
      "text/html": [
       "<div>\n",
       "<table border=\"1\" class=\"dataframe\">\n",
       "  <thead>\n",
       "    <tr style=\"text-align: right;\">\n",
       "      <th></th>\n",
       "      <th>Female</th>\n",
       "      <th>Male</th>\n",
       "    </tr>\n",
       "  </thead>\n",
       "  <tbody>\n",
       "    <tr>\n",
       "      <th>Active</th>\n",
       "      <td>428935</td>\n",
       "      <td>343148</td>\n",
       "    </tr>\n",
       "    <tr>\n",
       "      <th>Retired</th>\n",
       "      <td>257361</td>\n",
       "      <td>0</td>\n",
       "    </tr>\n",
       "  </tbody>\n",
       "</table>\n",
       "</div>"
      ],
      "text/plain": [
       "         Female    Male\n",
       "Active   428935  343148\n",
       "Retired  257361       0"
      ]
     },
     "execution_count": 14,
     "metadata": {},
     "output_type": "execute_result"
    }
   ],
   "source": [
    "# Contingency tables to have an insight into the relationship between Status and Gender. \n",
    "# Calculating the absolute values\n",
    "status_gender = pd.crosstab(index=df[\"status\"], columns=df[\"gender\"])\n",
    "status_gender.index= [\"Active\",\"Retired\"]\n",
    "status_gender.columns=[\"Female\", \"Male\"]\n",
    "status_gender"
   ]
  },
  {
   "cell_type": "code",
   "execution_count": 15,
   "metadata": {
    "collapsed": false
   },
   "outputs": [
    {
     "data": {
      "text/html": [
       "<div>\n",
       "<table border=\"1\" class=\"dataframe\">\n",
       "  <thead>\n",
       "    <tr style=\"text-align: right;\">\n",
       "      <th></th>\n",
       "      <th>Female</th>\n",
       "      <th>Male</th>\n",
       "    </tr>\n",
       "  </thead>\n",
       "  <tbody>\n",
       "    <tr>\n",
       "      <th>Active</th>\n",
       "      <td>0.625</td>\n",
       "      <td>1.0</td>\n",
       "    </tr>\n",
       "    <tr>\n",
       "      <th>Retired</th>\n",
       "      <td>0.375</td>\n",
       "      <td>0.0</td>\n",
       "    </tr>\n",
       "  </tbody>\n",
       "</table>\n",
       "</div>"
      ],
      "text/plain": [
       "         Female  Male\n",
       "Active    0.625   1.0\n",
       "Retired   0.375   0.0"
      ]
     },
     "execution_count": 15,
     "metadata": {},
     "output_type": "execute_result"
    }
   ],
   "source": [
    "# Contingency tables to have an insight into the relationship between Status and Gender. \n",
    "# Calculating the percentages by by columns axis = 0\n",
    "# if you want to calculate the percenteges by rows then axis = 1 \n",
    "status_gender1=pd.crosstab(index=df[\"status\"], columns=df[\"gender\"]).apply(lambda r: r/r.sum(), axis=0)\n",
    "status_gender1.index= [\"Active\",\"Retired\"]\n",
    "status_gender1.columns=[\"Female\", \"Male\"]\n",
    "status_gender1"
   ]
  },
  {
   "cell_type": "code",
   "execution_count": 16,
   "metadata": {
    "collapsed": false
   },
   "outputs": [
    {
     "data": {
      "text/plain": [
       "<matplotlib.axes._subplots.AxesSubplot at 0x2ae8cba8>"
      ]
     },
     "execution_count": 16,
     "metadata": {},
     "output_type": "execute_result"
    },
    {
     "data": {
      "image/png": "[encoded data removed]",
      "text/plain": [
       "<matplotlib.figure.Figure at 0x3f9ad30>"
      ]
     },
     "metadata": {},
     "output_type": "display_data"
    }
   ],
   "source": [
    "status_gender.plot(kind='bar')"
   ]
  },
  {
   "cell_type": "code",
   "execution_count": 17,
   "metadata": {
    "collapsed": false
   },
   "outputs": [
    {
     "data": {
      "text/html": [
       "<div>\n",
       "<table border=\"1\" class=\"dataframe\">\n",
       "  <thead>\n",
       "    <tr style=\"text-align: right;\">\n",
       "      <th></th>\n",
       "      <th>service_in_city</th>\n",
       "      <th>age_df_date</th>\n",
       "      <th>age_at_hire</th>\n",
       "    </tr>\n",
       "  </thead>\n",
       "  <tbody>\n",
       "    <tr>\n",
       "      <th>count</th>\n",
       "      <td>772083.000000</td>\n",
       "      <td>772083.000000</td>\n",
       "      <td>772083.000000</td>\n",
       "    </tr>\n",
       "    <tr>\n",
       "      <th>mean</th>\n",
       "      <td>11.570000</td>\n",
       "      <td>46.444444</td>\n",
       "      <td>35.111111</td>\n",
       "    </tr>\n",
       "    <tr>\n",
       "      <th>std</th>\n",
       "      <td>6.633132</td>\n",
       "      <td>10.874147</td>\n",
       "      <td>12.740534</td>\n",
       "    </tr>\n",
       "    <tr>\n",
       "      <th>min</th>\n",
       "      <td>2.900000</td>\n",
       "      <td>34.000000</td>\n",
       "      <td>17.000000</td>\n",
       "    </tr>\n",
       "    <tr>\n",
       "      <th>25%</th>\n",
       "      <td>4.770000</td>\n",
       "      <td>37.000000</td>\n",
       "      <td>29.000000</td>\n",
       "    </tr>\n",
       "    <tr>\n",
       "      <th>50%</th>\n",
       "      <td>11.180000</td>\n",
       "      <td>43.000000</td>\n",
       "      <td>31.000000</td>\n",
       "    </tr>\n",
       "    <tr>\n",
       "      <th>75%</th>\n",
       "      <td>15.340000</td>\n",
       "      <td>50.000000</td>\n",
       "      <td>48.000000</td>\n",
       "    </tr>\n",
       "    <tr>\n",
       "      <th>max</th>\n",
       "      <td>23.860000</td>\n",
       "      <td>65.000000</td>\n",
       "      <td>54.000000</td>\n",
       "    </tr>\n",
       "  </tbody>\n",
       "</table>\n",
       "</div>"
      ],
      "text/plain": [
       "       service_in_city    age_df_date    age_at_hire\n",
       "count    772083.000000  772083.000000  772083.000000\n",
       "mean         11.570000      46.444444      35.111111\n",
       "std           6.633132      10.874147      12.740534\n",
       "min           2.900000      34.000000      17.000000\n",
       "25%           4.770000      37.000000      29.000000\n",
       "50%          11.180000      43.000000      31.000000\n",
       "75%          15.340000      50.000000      48.000000\n",
       "max          23.860000      65.000000      54.000000"
      ]
     },
     "execution_count": 17,
     "metadata": {},
     "output_type": "execute_result"
    }
   ],
   "source": [
    "# Statistics of Years of Service and Age as of June 30, 2015 for the active population\n",
    "# 25%, 50%, and 75% are percentiles \n",
    "df[['service_in_city','age_df_date','age_at_hire']].dropna().describe() #we drop NA to calcualte this statistics"
   ]
  },
  {
   "cell_type": "markdown",
   "metadata": {},
   "source": [
    "##### In the following lines we are going to include the columns associated to the Multiple Decrements based on:\n",
    "* several causes of decrement\n",
    "* probabilities of decrement\n",
    "Multiple decrement models are extensions of standard mortality models whereby there is simultaneous operation of several causes of decrement. A life fails because of one of these decrements. In this particular case a life fails means that a member will not continue in the plan due to:\n",
    "1) Mortality\n",
    "2) Disability\n",
    "3) Terminated Refund \n",
    "4) Terminated Vested \n",
    "5) Service Retirement\n"
   ]
  },
  {
   "cell_type": "markdown",
   "metadata": {},
   "source": [
    "#### I am going to create some functions to retrive the reference rates"
   ]
  },
  {
   "cell_type": "code",
   "execution_count": 18,
   "metadata": {
    "collapsed": false,
    "scrolled": true
   },
   "outputs": [],
   "source": [
    "# Based on the notes 2 and 4 of the mortality and disability file Miscellaneous Plans usually have Industrial Death rates set \n",
    "# to zero unless the agency has specifically contracted for Industrial Death benefits and normally, Industrial Disability rates\n",
    "# are zero for miscellaneous plans. \n",
    "# I am assuming no Industrial Death Benefits neither Industrial Disability rates were contracted.\n",
    "# The Pre-Retirement Mortality is based only on the Non Industrial Death by Gender\n",
    "# I am assuming the retired members are healthy since no other information is given.\n",
    "# Note: It is possible to make one python class including all the following functions. However, for this implementation\n",
    "# I do a function for each of the decrements in order to be more clear\n",
    "\n",
    "\n",
    "#Function to get the mortality rate according to the gender, status and age\n",
    "\n",
    "def getmortality(df):  #df is the data DataFrame \n",
    "    mortdis=mortdisab #mortdisab is the mortality and disability data frame\n",
    "    if (df['gender'] =='m' and df['status'] =='active'): #According to the gender and status, we select the mortality rate\n",
    "        rate='PRNIDM'  #Pre-Retirement Mortality Non Industrial Death Male\n",
    "    elif (df['gender'] =='f' and df['status'] =='active') :\n",
    "        rate='PRNIDF'   #Pre-Retirement Mortality Non Industrial Death Female\n",
    "    elif (df['gender'] =='m' and df['status'] =='retired') :\n",
    "        rate='PoRHM' #Post-Retirement Mortality Healthy Recipients Male\n",
    "    else:\n",
    "        rate='PoRHF' #Post-Retirement Mortality Healthy Recipients Female \n",
    "    return mortdis[rate].loc[mortdis['AA'] == df['age_df_date']] #We find the age of each member and return the mortality rate"
   ]
  },
  {
   "cell_type": "code",
   "execution_count": 19,
   "metadata": {
    "collapsed": false
   },
   "outputs": [],
   "source": [
    "#Function to get the disability rate according to the gender and age\n",
    "\n",
    "def getdisability(df):  #df is the data DataFrame \n",
    "    mortdis=mortdisab #mortdisab is the mortality and disability data frame\n",
    "    if df['gender'] =='m': #According to the gender, we select the mortality rate\n",
    "        rate='DNIDM' #Non Industrial Disability Male\n",
    "    else:\n",
    "        rate='DNIDF' #Non Industrial Disability Female\n",
    "    if df['status'] =='active':\n",
    "        return mortdis[rate].loc[mortdis['AA'] == df['age_df_date']]  #We find the age of member and return the disability rate\n",
    "    else:\n",
    "        return float('NaN')"
   ]
  },
  {
   "cell_type": "code",
   "execution_count": 20,
   "metadata": {
    "collapsed": false
   },
   "outputs": [],
   "source": [
    "#Function to get the terminated refund rates according to the Years of Service and entry age\n",
    "# I am assuming the Years of Service are rounded to the nearest integer\n",
    "\n",
    "def gettermrefund(df):  #df is the data DataFrame \n",
    "    refrates_=refrates #DataFrame containing assumptions of the references rates\n",
    "    try:\n",
    "        entryage= 'TR_' + str(int(df['age_at_hire'])) #We find the entry age and transform to a string to find the rate (column)\n",
    "    except ValueError:\n",
    "        return 0\n",
    "    return refrates_[entryage].loc[refrates_['Service'] == int(round(df['service_in_city'],0))] #Years of Service  \n",
    "                                                                                            #rounded the nearest integer"
   ]
  },
  {
   "cell_type": "code",
   "execution_count": 21,
   "metadata": {
    "collapsed": true
   },
   "outputs": [],
   "source": [
    "#Function to get the terminated vested rates according to the Years of Service and entry age\n",
    "# I am assuming the Years of Service are rounded to the nearest integer\n",
    "\n",
    "def gettermvested(df):  #df is the data DataFrame \n",
    "    refrates_=refrates #DataFrame containing assumptions of the references rates\n",
    "    try:\n",
    "        entryage= 'TV_' + str(int(df['age_at_hire'])) #We find the entry age and transform to a string to find the column \n",
    "    except ValueError:\n",
    "        return 0\n",
    "    return refrates_[entryage].loc[refrates_['Service'] == int(round(df['service_in_city'],0))]   #Years of Service  \n",
    "                                                                                            #rounded the nearest integer"
   ]
  },
  {
   "cell_type": "code",
   "execution_count": 22,
   "metadata": {
    "collapsed": false
   },
   "outputs": [],
   "source": [
    "#Function to get the Service Retirement rates according to the Years of Service and Attained Ages \n",
    "# if the age is less than 50, I am assuming the Service Retirement rate is zero.\n",
    "\n",
    "def getservret(df):  #df is the data DataFrame \n",
    "    refrates_=refrates #DataFrame containing assumptions of the references rates\n",
    "    #According to the gender, we select the mortality rate\n",
    "    try:\n",
    "        if (df['benefit_formula_benefit_factor'] == '2.00%' and df['benefit_formula_retirement_age'] == 60 ): \n",
    "            rate='RXM2_60__' + str(int(df['age_df_date']))\n",
    "        elif (df['benefit_formula_benefit_factor'] == '2.00%' and df['benefit_formula_retirement_age'] == 55 ): \n",
    "            rate='RXM2_55__' + str(int(df['age_df_date']))\n",
    "        elif (df['benefit_formula_benefit_factor'] == '2.50%' and df['benefit_formula_retirement_age'] == 55 ): \n",
    "            rate='RXM25_55__' + str(int(df['age_df_date']))\n",
    "        elif (df['benefit_formula_benefit_factor'] == '2.70%' and df['benefit_formula_retirement_age'] == 55 ): \n",
    "            rate='RXM27_55__' + str(int(df['age_df_date']))\n",
    "        elif (df['benefit_formula_benefit_factor'] == '3.00%' and df['benefit_formula_retirement_age'] == 60 ): \n",
    "            rate='RXM3_60__' + str(int(df['age_df_date']))\n",
    "        else: \n",
    "            rate='RXM2_62__' + str(int(df['age_df_date']))\n",
    "        return refrates_[rate].loc[refrates_['Service'] == int(round(df['service_in_city'],0))] \n",
    "    except:\n",
    "        return 0"
   ]
  },
  {
   "cell_type": "markdown",
   "metadata": {},
   "source": [
    "#### The following code add columns applying the functions to get the references rates "
   ]
  },
  {
   "cell_type": "code",
   "execution_count": 23,
   "metadata": {
    "collapsed": false
   },
   "outputs": [],
   "source": [
    "df['survprob']=1-df.apply(getmortality,axis=1).fillna(0).sum(axis=1) #We create a column with the survival rates \n",
    "df['disab_pre']=1-df.apply(getdisability,axis=1).fillna(0).sum(axis=1) #We create a column with the disability rates\n",
    "df['term_ref']=1-df.apply(gettermrefund,axis=1).fillna(0).sum(axis=1) #We create a column with the terminated refund rates\n",
    "df['term_vest']=1-df.apply(gettermvested,axis=1).fillna(0).sum(axis=1) #We create a column with the terminated vested rates\n",
    "df['serv_rate']=1-df.apply(getservret,axis=1).fillna(0).sum(axis=1) #We create a column with the Service Retirement rates \n",
    "df.disab_pre[df.status == 'retired'] = 'NaN'\n",
    "df.term_ref[df.status == 'retired'] = 'NaN'\n",
    "df.term_vest[df.status == 'retired'] = 'NaN'\n",
    "df.serv_rate[df.status == 'retired'] = 'NaN'\n"
   ]
  },
  {
   "cell_type": "markdown",
   "metadata": {},
   "source": [
    "The probability that a member (x) will leave the group within one year as a result of decrement j is $$ q_x^{j} $$\n",
    "The probability that a member (x) will leave the group (regardless of decrement) is:\n",
    "$$q_x^{T} = \\sum_{j=1}^{m} q_x^{j} $$ \n",
    "The probability that (x) will remain in the group for at least one year (Kaplan-Meier Estimator): \n",
    "$$p_x^{T} = 1-q_x^{T} $$ \n",
    "\n",
    "I am assuming  a  uniform distribution of decrement in the interval (x, x+1) and assuming that the decrement ocurr at the end of the year.\n",
    "\n",
    "Additionally, I am assuming the rates given are the dependent rates."
   ]
  },
  {
   "cell_type": "code",
   "execution_count": 24,
   "metadata": {
    "collapsed": true
   },
   "outputs": [],
   "source": [
    "#Function to get the total survival probability Kaplan-Meier Estimator\n",
    "def gettotprobkp(df):  #df is the data DataFrame \n",
    "    if df['status']=='active': #if the member is active then we multiply all the decrements \n",
    "        return 1-((1-df['survprob'])+(1-df['disab_pre'])+(1-df['term_ref'])+(1-df['term_vest'])+(1-df['serv_rate']))\n",
    "    else:    #if the member is retired then we only have the mortality rate\n",
    "        return df['survprob']"
   ]
  },
  {
   "cell_type": "code",
   "execution_count": 25,
   "metadata": {
    "collapsed": false
   },
   "outputs": [],
   "source": [
    "df['tot_surv_kp']=df.apply(gettotprobkp,axis=1)#We create a column to display the total survival probability assuming KM\n",
    "                                            #probability that (x) will remain in the group for at least one year:)"
   ]
  },
  {
   "cell_type": "markdown",
   "metadata": {},
   "source": [
    "We need to find the total number of new members. In order to get this, we need to find how many members leave the plan by adding the total survival probabilities. "
   ]
  },
  {
   "cell_type": "code",
   "execution_count": 26,
   "metadata": {
    "collapsed": false
   },
   "outputs": [
    {
     "data": {
      "text/plain": [
       "707448.5005932634"
      ]
     },
     "execution_count": 26,
     "metadata": {},
     "output_type": "execute_result"
    }
   ],
   "source": [
    "# sum of total survival probabilities.\n",
    "df.loc[df['status'] == 'active', 'tot_surv_kp'].sum()"
   ]
  },
  {
   "cell_type": "markdown",
   "metadata": {},
   "source": [
    "So, we need to add 0.7534299999999998 new members in the plan (Total number of active members year 0 - Total number of active members year 1) (9 - 8.24657 = 0.7534299999999998 )"
   ]
  },
  {
   "cell_type": "markdown",
   "metadata": {},
   "source": [
    "If we assume that each row represents 100 members then:"
   ]
  },
  {
   "cell_type": "code",
   "execution_count": 27,
   "metadata": {
    "collapsed": false
   },
   "outputs": [],
   "source": [
    "df['number_members_at_2015']=100 #Number of member as of June 30, 2015\n",
    "df['number_members_at_2016']=df['number_members_at_2015']*df['tot_surv_kp'] #Number of member as of June 30, 2015\n",
    "df['number_members_at_2016']=df['number_members_at_2016'].apply(lambda x:round(x,0)) #Round the number of members to 0 decimals"
   ]
  },
  {
   "cell_type": "code",
   "execution_count": 33,
   "metadata": {
    "collapsed": false
   },
   "outputs": [
    {
     "name": "stdout",
     "output_type": "stream",
     "text": [
      "Number of members in the Data File as of June 30, 2015:  77208300\n",
      "Number of members in the Data File as of June 30, 2015:  70688488.0\n"
     ]
    }
   ],
   "source": [
    "# sum of total members rounded to the nearest integer.\n",
    "n_members_2015=df.loc[df['status'] == 'active', 'number_members_at_2015'].sum()\n",
    "n_members_2016=df.loc[df['status'] == 'active', 'number_members_at_2016'].sum()\n",
    "dif_members=n_members_2015-n_members_2016\n",
    "print \"Number of members in the Data File as of June 30, 2015: \",n_members_2015\n",
    "print \"Number of members in the Data File as of June 30, 2015: \",n_members_2016"
   ]
  },
  {
   "cell_type": "code",
   "execution_count": 36,
   "metadata": {
    "collapsed": false
   },
   "outputs": [
    {
     "name": "stdout",
     "output_type": "stream",
     "text": [
      "So, I need to add 6519812.0 new members in the plan (Total number of active members year as of June 30, 2015 - Total\n",
      "number of active members year s of June 30, 2016) ( 77208300 - 70688488.0 = 6519812.0 This is because of\n",
      "the assumption that the number of active members in Test City stays constant from year to year. New members have\n",
      "the demographic characteristics of the most recent active hire in the existing data file.\n"
     ]
    }
   ],
   "source": [
    "print \"So, I need to add\", dif_members, \"new members in the plan (Total number of active members year as of June 30, 2015 - Total\"\n",
    "print \"number of active members year s of June 30, 2016) (\",n_members_2015,\"-\",n_members_2016,\"=\",dif_members,\"This is because of\"\n",
    "print \"the assumption that the number of active members in Test City stays constant from year to year. New members have\"\n",
    "print \"the demographic characteristics of the most recent active hire in the existing data file.\""
   ]
  },
  {
   "cell_type": "code",
   "execution_count": 29,
   "metadata": {
    "collapsed": false
   },
   "outputs": [],
   "source": [
    "# We need to get the new members demographic characteristics, according the the assumptions \n",
    "#New members have the demographic characteristics of the most recent active hire in the existing data file\n",
    "# We need to find the most recent active hire.\n",
    "#The following lines creates a data frame where the row represent the new members\n",
    "#We find the index of the most recent hire, then using list comprehension we iterate over the values of the most recent hire.\n",
    "newmembers=pd.DataFrame(df.iloc[df[df['hire_date'] == max(df['hire_date'])].index.tolist()[0]][i] \n",
    "            for i in xrange(len(list(df)))).T\n",
    "newmembers.columns=list(df)\n",
    "#In the following lines we adjust some characteristics\n",
    "newmembers['id']=max(df['id'])+1 #we set the id of the new members as the last id + 1\n",
    "newmembers['hire_date'] =datetime.datetime(2016,6,30)#I am assuming the new members are hire exactly on June 30, 2016\n",
    "newmembers['service_in_city']=0 #Because if the previous assumption the service is 0 as of June 30, 2016\n",
    "newmembers['number_members_at_2015']=0 #The number of members as of June 30, 2015 is zero.\n",
    "newmembers['number_members_at_2016']= df.loc[df['status'] == 'active', 'number_members_at_2015'\n",
    "                                            ].sum()- df.loc[df['status'] == 'active', 'number_members_at_2016'].sum() \n",
    "newmembers[['survprob','disab_pre','term_ref','term_vest','serv_rate','tot_surv_kp']]=1 #I set all the probabilities equal =1 \n",
    "                                                                    #since the new memberes are just starting in the plan\n",
    "newmembers['age_at_hire']=newmembers['age_df_date_proj'] #we adjust the entry age"
   ]
  },
  {
   "cell_type": "code",
   "execution_count": 30,
   "metadata": {
    "collapsed": true
   },
   "outputs": [],
   "source": [
    "new_df=newmembers.append(df, ignore_index=True) #We add the new members to the data file."
   ]
  },
  {
   "cell_type": "code",
   "execution_count": 31,
   "metadata": {
    "collapsed": false
   },
   "outputs": [
    {
     "data": {
      "text/html": [
       "<div>\n",
       "<table border=\"1\" class=\"dataframe\">\n",
       "  <thead>\n",
       "    <tr style=\"text-align: right;\">\n",
       "      <th></th>\n",
       "      <th>id</th>\n",
       "      <th>gender</th>\n",
       "      <th>status</th>\n",
       "      <th>group</th>\n",
       "      <th>birth_date</th>\n",
       "      <th>hire_date</th>\n",
       "      <th>service_in_city</th>\n",
       "      <th>benefit_formula_benefit_factor</th>\n",
       "      <th>benefit_formula_retirement_age</th>\n",
       "      <th>life_annuity_yearly_amount</th>\n",
       "      <th>...</th>\n",
       "      <th>age_df_date_proj</th>\n",
       "      <th>age_at_hire</th>\n",
       "      <th>survprob</th>\n",
       "      <th>disab_pre</th>\n",
       "      <th>term_ref</th>\n",
       "      <th>term_vest</th>\n",
       "      <th>serv_rate</th>\n",
       "      <th>tot_surv_kp</th>\n",
       "      <th>number_members_at_2015</th>\n",
       "      <th>number_members_at_2016</th>\n",
       "    </tr>\n",
       "  </thead>\n",
       "  <tbody>\n",
       "    <tr>\n",
       "      <th>0</th>\n",
       "      <td>1029445</td>\n",
       "      <td>m</td>\n",
       "      <td>active</td>\n",
       "      <td>miscellaneous</td>\n",
       "      <td>1964-12-09 00:00:00</td>\n",
       "      <td>2016-06-30</td>\n",
       "      <td>0.00</td>\n",
       "      <td>3.00%</td>\n",
       "      <td>60</td>\n",
       "      <td>0</td>\n",
       "      <td>...</td>\n",
       "      <td>51</td>\n",
       "      <td>51</td>\n",
       "      <td>1</td>\n",
       "      <td>1</td>\n",
       "      <td>1</td>\n",
       "      <td>1</td>\n",
       "      <td>1</td>\n",
       "      <td>1</td>\n",
       "      <td>0</td>\n",
       "      <td>6519812.0</td>\n",
       "    </tr>\n",
       "    <tr>\n",
       "      <th>1</th>\n",
       "      <td>1</td>\n",
       "      <td>f</td>\n",
       "      <td>active</td>\n",
       "      <td>miscellaneous</td>\n",
       "      <td>1950-01-09 00:00:00</td>\n",
       "      <td>2004-07-12</td>\n",
       "      <td>11.18</td>\n",
       "      <td>2.00%</td>\n",
       "      <td>55</td>\n",
       "      <td>0</td>\n",
       "      <td>...</td>\n",
       "      <td>66</td>\n",
       "      <td>54</td>\n",
       "      <td>0.99743</td>\n",
       "      <td>0.99882</td>\n",
       "      <td>0.9982</td>\n",
       "      <td>1</td>\n",
       "      <td>0.795</td>\n",
       "      <td>0.78945</td>\n",
       "      <td>100</td>\n",
       "      <td>79.0</td>\n",
       "    </tr>\n",
       "    <tr>\n",
       "      <th>2</th>\n",
       "      <td>2</td>\n",
       "      <td>m</td>\n",
       "      <td>active</td>\n",
       "      <td>miscellaneous</td>\n",
       "      <td>1978-01-22 00:00:00</td>\n",
       "      <td>2007-02-07</td>\n",
       "      <td>8.61</td>\n",
       "      <td>2.50%</td>\n",
       "      <td>55</td>\n",
       "      <td>0</td>\n",
       "      <td>...</td>\n",
       "      <td>38</td>\n",
       "      <td>29</td>\n",
       "      <td>0.99935</td>\n",
       "      <td>0.99926</td>\n",
       "      <td>0.9879</td>\n",
       "      <td>0.9557</td>\n",
       "      <td>1</td>\n",
       "      <td>0.94221</td>\n",
       "      <td>100</td>\n",
       "      <td>94.0</td>\n",
       "    </tr>\n",
       "    <tr>\n",
       "      <th>3</th>\n",
       "      <td>3</td>\n",
       "      <td>f</td>\n",
       "      <td>active</td>\n",
       "      <td>miscellaneous</td>\n",
       "      <td>1950-08-24 00:00:00</td>\n",
       "      <td>2000-10-10</td>\n",
       "      <td>15.34</td>\n",
       "      <td>2.50%</td>\n",
       "      <td>55</td>\n",
       "      <td>0</td>\n",
       "      <td>...</td>\n",
       "      <td>65</td>\n",
       "      <td>50</td>\n",
       "      <td>0.99759</td>\n",
       "      <td>0.9988</td>\n",
       "      <td>0.9996</td>\n",
       "      <td>1</td>\n",
       "      <td>0.847</td>\n",
       "      <td>0.84299</td>\n",
       "      <td>100</td>\n",
       "      <td>84.0</td>\n",
       "    </tr>\n",
       "    <tr>\n",
       "      <th>4</th>\n",
       "      <td>4</td>\n",
       "      <td>m</td>\n",
       "      <td>active</td>\n",
       "      <td>miscellaneous</td>\n",
       "      <td>1972-01-14 00:00:00</td>\n",
       "      <td>1990-10-09</td>\n",
       "      <td>23.86</td>\n",
       "      <td>2.70%</td>\n",
       "      <td>55</td>\n",
       "      <td>0</td>\n",
       "      <td>...</td>\n",
       "      <td>44</td>\n",
       "      <td>18</td>\n",
       "      <td>0.99906</td>\n",
       "      <td>0.99829</td>\n",
       "      <td>0.9977</td>\n",
       "      <td>0.9732</td>\n",
       "      <td>1</td>\n",
       "      <td>0.96825</td>\n",
       "      <td>100</td>\n",
       "      <td>97.0</td>\n",
       "    </tr>\n",
       "  </tbody>\n",
       "</table>\n",
       "<p>5 rows × 21 columns</p>\n",
       "</div>"
      ],
      "text/plain": [
       "        id gender  status          group           birth_date  hire_date  \\\n",
       "0  1029445      m  active  miscellaneous  1964-12-09 00:00:00 2016-06-30   \n",
       "1        1      f  active  miscellaneous  1950-01-09 00:00:00 2004-07-12   \n",
       "2        2      m  active  miscellaneous  1978-01-22 00:00:00 2007-02-07   \n",
       "3        3      f  active  miscellaneous  1950-08-24 00:00:00 2000-10-10   \n",
       "4        4      m  active  miscellaneous  1972-01-14 00:00:00 1990-10-09   \n",
       "\n",
       "   service_in_city benefit_formula_benefit_factor  \\\n",
       "0             0.00                          3.00%   \n",
       "1            11.18                          2.00%   \n",
       "2             8.61                          2.50%   \n",
       "3            15.34                          2.50%   \n",
       "4            23.86                          2.70%   \n",
       "\n",
       "  benefit_formula_retirement_age life_annuity_yearly_amount  \\\n",
       "0                             60                          0   \n",
       "1                             55                          0   \n",
       "2                             55                          0   \n",
       "3                             55                          0   \n",
       "4                             55                          0   \n",
       "\n",
       "            ...           age_df_date_proj age_at_hire survprob disab_pre  \\\n",
       "0           ...                         51          51        1         1   \n",
       "1           ...                         66          54  0.99743   0.99882   \n",
       "2           ...                         38          29  0.99935   0.99926   \n",
       "3           ...                         65          50  0.99759    0.9988   \n",
       "4           ...                         44          18  0.99906   0.99829   \n",
       "\n",
       "  term_ref term_vest serv_rate tot_surv_kp number_members_at_2015  \\\n",
       "0        1         1         1           1                      0   \n",
       "1   0.9982         1     0.795     0.78945                    100   \n",
       "2   0.9879    0.9557         1     0.94221                    100   \n",
       "3   0.9996         1     0.847     0.84299                    100   \n",
       "4   0.9977    0.9732         1     0.96825                    100   \n",
       "\n",
       "   number_members_at_2016  \n",
       "0               6519812.0  \n",
       "1                    79.0  \n",
       "2                    94.0  \n",
       "3                    84.0  \n",
       "4                    97.0  \n",
       "\n",
       "[5 rows x 21 columns]"
      ]
     },
     "execution_count": 31,
     "metadata": {},
     "output_type": "execute_result"
    }
   ],
   "source": [
    "new_df.head()"
   ]
  },
  {
   "cell_type": "code",
   "execution_count": 32,
   "metadata": {
    "collapsed": true
   },
   "outputs": [],
   "source": [
    "new_df.to_csv('New_data_File_modi.csv',sep=',',header=True,na_rep=\"NaN\",  index=False) #We import the new data file to a csv \n",
    "                                                                                     #in the same directory"
   ]
  },
  {
   "cell_type": "code",
   "execution_count": null,
   "metadata": {
    "collapsed": true
   },
   "outputs": [],
   "source": []
  }
 ],
 "metadata": {
  "kernelspec": {
   "display_name": "Python 2",
   "language": "python",
   "name": "python2"
  },
  "language_info": {
   "codemirror_mode": {
    "name": "ipython",
    "version": 2
   },
   "file_extension": ".py",
   "mimetype": "text/x-python",
   "name": "python",
   "nbconvert_exporter": "python",
   "pygments_lexer": "ipython2",
   "version": "2.7.11"
  }
 },
 "nbformat": 4,
 "nbformat_minor": 0
}
