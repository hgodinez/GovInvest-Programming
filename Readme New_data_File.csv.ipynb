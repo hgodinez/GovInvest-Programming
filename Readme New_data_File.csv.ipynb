{
 "cells": [
  {
   "cell_type": "markdown",
   "metadata": {},
   "source": [
    "File: New_data_File.csv\n",
    "\n",
    "This file includes the new data file for Test City as of June 30, 2016 with the assumptions given. \n",
    "\n",
    "The variables included in the file are:\n",
    "\n",
    "id = ID of the member\n",
    "\n",
    "gender = Gender (m for males, f for females)\n",
    "\n",
    "status = Status in the plan (active and retired)\n",
    "\n",
    "group = Group of the plan\n",
    "\n",
    "birth_date = Birth date of the member\n",
    "\n",
    "hire_date = Hire date of the member\n",
    "\n",
    "service_in_city = Years of service in the plan\n",
    "\n",
    "benefit_formula_benefit_factor = Benefit Factor (2%, 2.5%, 2.7% or 3%)\n",
    "\n",
    "benefit_formula_retirement_age = Age of normal retirement (55, 60 or 62)\n",
    "\n",
    "life_annuity_yearly_amount = Life Annuity amount per year\n",
    "\n",
    "age_df_date = Age as of June 30, 2015\n",
    "\n",
    "age_df_date_proj = Age as of June 30, 2016\n",
    "\n",
    "age_at_hire = Entry age \n",
    "\n",
    "survprob = Survival probability (only for mortality)\n",
    "\n",
    "disab_pre = 1-Disability rate\n",
    "\n",
    "term_ref = 1-terminated refund rates\n",
    "\n",
    "term_vest = 1-terminated vested rates\n",
    "\n",
    "serv_rate = 1-Service Retirement rates\n",
    "\n",
    "tot_surv_kp = Probability that the member will remain in the plan for at least one year \n",
    "\n",
    "number_members_at_2015 = Number of members as of June 30, 2015\n",
    "\n",
    "number_members_at_2016 = Number of members as of June 30, 2016\n"
   ]
  },
  {
   "cell_type": "code",
   "execution_count": null,
   "metadata": {
    "collapsed": true
   },
   "outputs": [],
   "source": []
  }
 ],
 "metadata": {
  "kernelspec": {
   "display_name": "Python 2",
   "language": "python",
   "name": "python2"
  },
  "language_info": {
   "codemirror_mode": {
    "name": "ipython",
    "version": 2
   },
   "file_extension": ".py",
   "mimetype": "text/x-python",
   "name": "python",
   "nbconvert_exporter": "python",
   "pygments_lexer": "ipython2",
   "version": "2.7.11"
  }
 },
 "nbformat": 4,
 "nbformat_minor": 0
}
